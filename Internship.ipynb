{
 "cells": [
  {
   "cell_type": "markdown",
   "id": "2bb97746",
   "metadata": {},
   "source": [
    "DAY 1"
   ]
  },
  {
   "cell_type": "markdown",
   "id": "3d8bfdac",
   "metadata": {},
   "source": [
    "COMMENTS AND HEADING\n",
    "="
   ]
  },
  {
   "cell_type": "code",
   "execution_count": 4,
   "id": "fe5b40bc",
   "metadata": {
    "scrolled": true
   },
   "outputs": [
    {
     "name": "stdout",
     "output_type": "stream",
     "text": [
      "Daniel\n"
     ]
    }
   ],
   "source": [
    "print('Daniel')"
   ]
  },
  {
   "cell_type": "code",
   "execution_count": 2,
   "id": "ab766f54",
   "metadata": {},
   "outputs": [
    {
     "name": "stdout",
     "output_type": "stream",
     "text": [
      "Active\n"
     ]
    }
   ],
   "source": [
    "print('Active')"
   ]
  },
  {
   "cell_type": "code",
   "execution_count": 6,
   "id": "3d3179e1",
   "metadata": {},
   "outputs": [],
   "source": [
    "# Python Programming is essential in Meteorology and Climate studies.\n"
   ]
  },
  {
   "cell_type": "code",
   "execution_count": null,
   "id": "7cd3f478",
   "metadata": {},
   "outputs": [],
   "source": [
    "Python Programming is essential in Meteorology and Climate studies."
   ]
  },
  {
   "cell_type": "code",
   "execution_count": null,
   "id": "be3a73ba",
   "metadata": {},
   "outputs": [],
   "source": [
    "'''D for Daniel'''"
   ]
  },
  {
   "cell_type": "code",
   "execution_count": null,
   "id": "7006a4b1",
   "metadata": {},
   "outputs": [],
   "source": [
    "''''Print('Hello')"
   ]
  },
  {
   "cell_type": "markdown",
   "id": "2249d143",
   "metadata": {},
   "source": [
    "DATA TYPE/STRUCTURE\n",
    "="
   ]
  },
  {
   "cell_type": "code",
   "execution_count": 9,
   "id": "5782d5f8",
   "metadata": {},
   "outputs": [
    {
     "data": {
      "text/plain": [
       "10"
      ]
     },
     "execution_count": 9,
     "metadata": {},
     "output_type": "execute_result"
    }
   ],
   "source": [
    "10"
   ]
  },
  {
   "cell_type": "code",
   "execution_count": 12,
   "id": "297d6687",
   "metadata": {},
   "outputs": [
    {
     "data": {
      "text/plain": [
       "int"
      ]
     },
     "execution_count": 12,
     "metadata": {},
     "output_type": "execute_result"
    }
   ],
   "source": [
    "type(10)"
   ]
  },
  {
   "cell_type": "code",
   "execution_count": 13,
   "id": "a8654d4a",
   "metadata": {},
   "outputs": [
    {
     "data": {
      "text/plain": [
       "float"
      ]
     },
     "execution_count": 13,
     "metadata": {},
     "output_type": "execute_result"
    }
   ],
   "source": [
    "type(15.72)"
   ]
  },
  {
   "cell_type": "code",
   "execution_count": 15,
   "id": "b92a74be",
   "metadata": {},
   "outputs": [
    {
     "data": {
      "text/plain": [
       "str"
      ]
     },
     "execution_count": 15,
     "metadata": {},
     "output_type": "execute_result"
    }
   ],
   "source": [
    "type('Daniel')"
   ]
  },
  {
   "cell_type": "code",
   "execution_count": 17,
   "id": "0141ed5a",
   "metadata": {},
   "outputs": [],
   "source": [
    "a=['write','draw','drum']"
   ]
  },
  {
   "cell_type": "code",
   "execution_count": 18,
   "id": "f11ca42a",
   "metadata": {},
   "outputs": [
    {
     "data": {
      "text/plain": [
       "list"
      ]
     },
     "execution_count": 18,
     "metadata": {},
     "output_type": "execute_result"
    }
   ],
   "source": [
    "type(a)"
   ]
  },
  {
   "cell_type": "markdown",
   "id": "a83babd3",
   "metadata": {},
   "source": [
    "VARIABLE ASSIGNMENT\n",
    "="
   ]
  },
  {
   "cell_type": "code",
   "execution_count": 20,
   "id": "8d04931e",
   "metadata": {},
   "outputs": [],
   "source": [
    "b=10\n",
    "c=12"
   ]
  },
  {
   "cell_type": "code",
   "execution_count": 22,
   "id": "25394a41",
   "metadata": {},
   "outputs": [
    {
     "data": {
      "text/plain": [
       "22"
      ]
     },
     "execution_count": 22,
     "metadata": {},
     "output_type": "execute_result"
    }
   ],
   "source": [
    "zz = b + c\n",
    "zz"
   ]
  },
  {
   "cell_type": "code",
   "execution_count": null,
   "id": "0eb9589e",
   "metadata": {},
   "outputs": [],
   "source": []
  },
  {
   "cell_type": "code",
   "execution_count": 24,
   "id": "a57593a9",
   "metadata": {},
   "outputs": [
    {
     "data": {
      "text/plain": [
       "-8"
      ]
     },
     "execution_count": 24,
     "metadata": {},
     "output_type": "execute_result"
    }
   ],
   "source": [
    "zz-e"
   ]
  },
  {
   "cell_type": "markdown",
   "id": "3802386b",
   "metadata": {},
   "source": [
    "PRINT STATEMENT\n",
    "---\n",
    "\n"
   ]
  },
  {
   "cell_type": "code",
   "execution_count": 27,
   "id": "1b0dea00",
   "metadata": {},
   "outputs": [],
   "source": [
    "# Print is for displaying output"
   ]
  },
  {
   "cell_type": "code",
   "execution_count": 28,
   "id": "da2d3db9",
   "metadata": {},
   "outputs": [
    {
     "name": "stdout",
     "output_type": "stream",
     "text": [
      "My name is Daniel\n"
     ]
    }
   ],
   "source": [
    "print('My name is Daniel')"
   ]
  },
  {
   "cell_type": "code",
   "execution_count": 33,
   "id": "546dff83",
   "metadata": {},
   "outputs": [
    {
     "name": "stdout",
     "output_type": "stream",
     "text": [
      "My name is Daniel\n",
      "I am a Met student\n"
     ]
    }
   ],
   "source": [
    "# To print a statement on the next line; use \\n\n",
    "print('My name is Daniel\\nI am a Met student')"
   ]
  },
  {
   "cell_type": "code",
   "execution_count": 36,
   "id": "1db9e47a",
   "metadata": {},
   "outputs": [
    {
     "name": "stdout",
     "output_type": "stream",
     "text": [
      "The cedi to dollar rate is\n",
      "12 cedis to a dollar\n"
     ]
    }
   ],
   "source": [
    "print('The cedi to dollar rate is\\n12 cedis to a dollar')"
   ]
  },
  {
   "cell_type": "code",
   "execution_count": 37,
   "id": "d7704666",
   "metadata": {},
   "outputs": [
    {
     "name": "stdout",
     "output_type": "stream",
     "text": [
      "\n"
     ]
    }
   ],
   "source": [
    "# running a blanck\n",
    "print('')"
   ]
  },
  {
   "cell_type": "code",
   "execution_count": 40,
   "id": "8bc509f1",
   "metadata": {},
   "outputs": [
    {
     "name": "stdout",
     "output_type": "stream",
     "text": [
      "My name is Daniel\n",
      "I am an meteorology and climate science student of KNUST.\n"
     ]
    }
   ],
   "source": [
    "print('My name is Daniel\\nI am an meteorology and climate science student of KNUST.')"
   ]
  },
  {
   "cell_type": "code",
   "execution_count": 41,
   "id": "0da0b47f",
   "metadata": {},
   "outputs": [
    {
     "name": "stdout",
     "output_type": "stream",
     "text": [
      "22\n"
     ]
    }
   ],
   "source": [
    "print(zz)"
   ]
  },
  {
   "cell_type": "markdown",
   "id": "6156cd65",
   "metadata": {},
   "source": [
    "SUB-SETTING\n",
    "="
   ]
  },
  {
   "cell_type": "code",
   "execution_count": 52,
   "id": "7ef3c51f",
   "metadata": {},
   "outputs": [],
   "source": [
    "# finding the length of a string\n",
    "Course = \"Meteorology and climate science\"\n"
   ]
  },
  {
   "cell_type": "code",
   "execution_count": 53,
   "id": "979ad621",
   "metadata": {},
   "outputs": [
    {
     "data": {
      "text/plain": [
       "31"
      ]
     },
     "execution_count": 53,
     "metadata": {},
     "output_type": "execute_result"
    }
   ],
   "source": [
    "len(Course)"
   ]
  },
  {
   "cell_type": "code",
   "execution_count": 54,
   "id": "590d5207",
   "metadata": {},
   "outputs": [
    {
     "data": {
      "text/plain": [
       "'M'"
      ]
     },
     "execution_count": 54,
     "metadata": {},
     "output_type": "execute_result"
    }
   ],
   "source": [
    "# the index of each letter\n",
    "Course[0]"
   ]
  },
  {
   "cell_type": "code",
   "execution_count": 58,
   "id": "fc5dd1af",
   "metadata": {},
   "outputs": [
    {
     "data": {
      "text/plain": [
       "'Met'"
      ]
     },
     "execution_count": 58,
     "metadata": {},
     "output_type": "execute_result"
    }
   ],
   "source": [
    "# print/pick from the first to the 3rd letter. Note that indexing starts from 0\n",
    "Course[0:3]"
   ]
  },
  {
   "cell_type": "code",
   "execution_count": 65,
   "id": "f25f98ca",
   "metadata": {},
   "outputs": [
    {
     "data": {
      "text/plain": [
       "'Mtoooyadciaesine'"
      ]
     },
     "execution_count": 65,
     "metadata": {},
     "output_type": "execute_result"
    }
   ],
   "source": [
    "# pick from the first letter at intervals of 2.\n",
    "Course[0::2]"
   ]
  },
  {
   "cell_type": "markdown",
   "id": "3f353e3b",
   "metadata": {},
   "source": [
    "CONCATINATION\n",
    "="
   ]
  },
  {
   "cell_type": "code",
   "execution_count": 71,
   "id": "64540f7b",
   "metadata": {},
   "outputs": [
    {
     "name": "stdout",
     "output_type": "stream",
     "text": [
      "MeteorologyandclimateScience\n"
     ]
    }
   ],
   "source": [
    "#joining words together using the + sign \n",
    "a = 'Meteorology'\n",
    "b = 'and'\n",
    "c = 'climate'\n",
    "d = 'Science'\n",
    "print(a+b+c+d)"
   ]
  },
  {
   "cell_type": "code",
   "execution_count": 72,
   "id": "9790c1ca",
   "metadata": {},
   "outputs": [
    {
     "name": "stdout",
     "output_type": "stream",
     "text": [
      "Meteorology and climate Science \n"
     ]
    }
   ],
   "source": [
    "a = 'Meteorology '\n",
    "b = 'and '\n",
    "c = 'climate '\n",
    "d = 'Science '\n",
    "print(a+b+c+d)"
   ]
  },
  {
   "cell_type": "code",
   "execution_count": 79,
   "id": "f9a25053",
   "metadata": {},
   "outputs": [
    {
     "name": "stdout",
     "output_type": "stream",
     "text": [
      "Programming is the way. \n",
      "Programming is the way. \n",
      "Programming is the way. \n",
      "Programming is the way. \n",
      "Programming is the way. \n",
      "Programming is the way. \n",
      "Programming is the way. \n",
      "Programming is the way. \n",
      "Programming is the way. \n",
      "Programming is the way. \n",
      "Programming is the way. \n",
      "Programming is the way. \n",
      "Programming is the way. \n",
      "Programming is the way. \n",
      "Programming is the way. \n",
      "Programming is the way. \n",
      "Programming is the way. \n",
      "Programming is the way. \n",
      "Programming is the way. \n",
      "Programming is the way. \n",
      "\n"
     ]
    }
   ],
   "source": [
    "print('Programming is the way. \\n'*20)"
   ]
  },
  {
   "cell_type": "markdown",
   "id": "3be8ab77",
   "metadata": {},
   "source": [
    "FORMATTING STRINGS\n",
    "="
   ]
  },
  {
   "cell_type": "code",
   "execution_count": 94,
   "id": "2f29de45",
   "metadata": {},
   "outputs": [],
   "source": [
    "m=\"THE FUTURE IS EXCITING\""
   ]
  },
  {
   "cell_type": "code",
   "execution_count": 96,
   "id": "759f9a1f",
   "metadata": {},
   "outputs": [
    {
     "data": {
      "text/plain": [
       "'the future is exciting'"
      ]
     },
     "execution_count": 96,
     "metadata": {},
     "output_type": "execute_result"
    }
   ],
   "source": [
    "n = m.lower()\n",
    "n"
   ]
  },
  {
   "cell_type": "code",
   "execution_count": 97,
   "id": "7482248c",
   "metadata": {},
   "outputs": [
    {
     "data": {
      "text/plain": [
       "'THE FUTURE IS EXCITING'"
      ]
     },
     "execution_count": 97,
     "metadata": {},
     "output_type": "execute_result"
    }
   ],
   "source": [
    "p = n.upper()\n",
    "p"
   ]
  },
  {
   "cell_type": "code",
   "execution_count": 102,
   "id": "84da88e7",
   "metadata": {},
   "outputs": [
    {
     "data": {
      "text/plain": [
       "'The future is exciting'"
      ]
     },
     "execution_count": 102,
     "metadata": {},
     "output_type": "execute_result"
    }
   ],
   "source": [
    "q = p.capitalize()\n",
    "q"
   ]
  },
  {
   "cell_type": "code",
   "execution_count": 103,
   "id": "81976c4b",
   "metadata": {},
   "outputs": [
    {
     "data": {
      "text/plain": [
       "'The future is exhilarating'"
      ]
     },
     "execution_count": 103,
     "metadata": {},
     "output_type": "execute_result"
    }
   ],
   "source": [
    "q.replace('exciting','exhilarating')"
   ]
  },
  {
   "cell_type": "code",
   "execution_count": 111,
   "id": "6bde021b",
   "metadata": {},
   "outputs": [],
   "source": [
    "first = \"Welcome to the {year}, {prog} organised by  the {organizers} \".format(year = '2022', prog = \"Internship\", organizers = \"Dept. of Met and Climate Sci.\")"
   ]
  },
  {
   "cell_type": "code",
   "execution_count": 112,
   "id": "6023ddf9",
   "metadata": {},
   "outputs": [
    {
     "data": {
      "text/plain": [
       "'Welcome to the 2022, Internship organised by  the Dept. of Met and Climate Sci. '"
      ]
     },
     "execution_count": 112,
     "metadata": {},
     "output_type": "execute_result"
    }
   ],
   "source": [
    "first"
   ]
  },
  {
   "cell_type": "markdown",
   "id": "eb9d6c2f",
   "metadata": {},
   "source": [
    "BASIC ARITHMETICS\n",
    "="
   ]
  },
  {
   "cell_type": "code",
   "execution_count": 113,
   "id": "587d5448",
   "metadata": {},
   "outputs": [],
   "source": [
    "# floor division gives only the quotient and not the remainder."
   ]
  },
  {
   "cell_type": "markdown",
   "id": "5dca2299",
   "metadata": {},
   "source": [
    "BOOLEAN DATA TYPE\n",
    "="
   ]
  },
  {
   "cell_type": "code",
   "execution_count": 114,
   "id": "870058d6",
   "metadata": {},
   "outputs": [
    {
     "data": {
      "text/plain": [
       "False"
      ]
     },
     "execution_count": 114,
     "metadata": {},
     "output_type": "execute_result"
    }
   ],
   "source": [
    "2>5"
   ]
  },
  {
   "cell_type": "code",
   "execution_count": 115,
   "id": "ccb4d978",
   "metadata": {},
   "outputs": [
    {
     "data": {
      "text/plain": [
       "False"
      ]
     },
     "execution_count": 115,
     "metadata": {},
     "output_type": "execute_result"
    }
   ],
   "source": [
    "11.2 == 11.22"
   ]
  },
  {
   "cell_type": "code",
   "execution_count": 116,
   "id": "8673190c",
   "metadata": {},
   "outputs": [
    {
     "data": {
      "text/plain": [
       "bool"
      ]
     },
     "execution_count": 116,
     "metadata": {},
     "output_type": "execute_result"
    }
   ],
   "source": [
    "type(11.2 == 11.22)"
   ]
  },
  {
   "cell_type": "code",
   "execution_count": 117,
   "id": "135198d2",
   "metadata": {},
   "outputs": [
    {
     "data": {
      "text/plain": [
       "frozenset"
      ]
     },
     "execution_count": 117,
     "metadata": {},
     "output_type": "execute_result"
    }
   ],
   "source": [
    "r = frozenset(['1','2','3'])\n",
    "type(r)"
   ]
  },
  {
   "cell_type": "code",
   "execution_count": 123,
   "id": "51b26083",
   "metadata": {},
   "outputs": [],
   "source": [
    "# DICTIONARY\n",
    "s = {\n",
    "'name':'Daniel',\n",
    "'phone number': '0560898216',\n",
    "'Gender': 'Male'}"
   ]
  },
  {
   "cell_type": "code",
   "execution_count": 124,
   "id": "aebf29f0",
   "metadata": {},
   "outputs": [
    {
     "data": {
      "text/plain": [
       "dict"
      ]
     },
     "execution_count": 124,
     "metadata": {},
     "output_type": "execute_result"
    }
   ],
   "source": [
    "type(s)"
   ]
  },
  {
   "cell_type": "markdown",
   "id": "2a319010",
   "metadata": {},
   "source": [
    "MAKING COMPARISON\n",
    "--"
   ]
  },
  {
   "cell_type": "code",
   "execution_count": 129,
   "id": "03c65194",
   "metadata": {},
   "outputs": [
    {
     "data": {
      "text/plain": [
       "True"
      ]
     },
     "execution_count": 129,
     "metadata": {},
     "output_type": "execute_result"
    }
   ],
   "source": [
    "2 <= 10"
   ]
  },
  {
   "cell_type": "markdown",
   "id": "b3bd4a29",
   "metadata": {},
   "source": [
    "LOGICAL OPERATORS\n",
    "="
   ]
  },
  {
   "cell_type": "code",
   "execution_count": 132,
   "id": "025f5adc",
   "metadata": {},
   "outputs": [
    {
     "data": {
      "text/plain": [
       "False"
      ]
     },
     "execution_count": 132,
     "metadata": {},
     "output_type": "execute_result"
    }
   ],
   "source": [
    "#the & is used for AND expressions. \n",
    "(5<2) & (5>3)"
   ]
  },
  {
   "cell_type": "markdown",
   "id": "17970fee",
   "metadata": {},
   "source": [
    "ONE WAY DECISION\n",
    "="
   ]
  },
  {
   "cell_type": "code",
   "execution_count": 133,
   "id": "35c65ca6",
   "metadata": {},
   "outputs": [],
   "source": [
    "x = 5"
   ]
  },
  {
   "cell_type": "code",
   "execution_count": 134,
   "id": "243ef16a",
   "metadata": {},
   "outputs": [
    {
     "name": "stdout",
     "output_type": "stream",
     "text": [
      "x equals 5\n"
     ]
    }
   ],
   "source": [
    "# indentation is how to end loops.\n",
    "if x == 5:\n",
    "       print('x equals 5') \n"
   ]
  },
  {
   "cell_type": "code",
   "execution_count": 136,
   "id": "3cf11e58",
   "metadata": {},
   "outputs": [],
   "source": [
    "if x == 6:\n",
    "       print('x is not equals 5') \n"
   ]
  },
  {
   "cell_type": "code",
   "execution_count": 137,
   "id": "ebf7817a",
   "metadata": {},
   "outputs": [
    {
     "name": "stdout",
     "output_type": "stream",
     "text": [
      "x is greater than 4\n"
     ]
    }
   ],
   "source": [
    "if x > 4:\n",
    "    print('x is greater than 4')"
   ]
  },
  {
   "cell_type": "code",
   "execution_count": 138,
   "id": "bee8b62e",
   "metadata": {},
   "outputs": [
    {
     "name": "stdout",
     "output_type": "stream",
     "text": [
      "x is not equal to 6\n"
     ]
    }
   ],
   "source": [
    "if x != 6:\n",
    "    print('x is not equal to 6')"
   ]
  },
  {
   "cell_type": "markdown",
   "id": "246acf66",
   "metadata": {},
   "source": [
    "INPUT\n",
    "="
   ]
  },
  {
   "cell_type": "code",
   "execution_count": 142,
   "id": "c7593c46",
   "metadata": {},
   "outputs": [
    {
     "name": "stdout",
     "output_type": "stream",
     "text": [
      "Enter your age Daniel\n",
      "You are welcome Daniel\n",
      "Two decision execution comlete\n"
     ]
    }
   ],
   "source": [
    "Name = input(\"Enter your age \")\n",
    "if Name == 'Daniel':\n",
    "    print('You are welcome',Name)\n",
    "else:\n",
    "    print(\"Stranger in Jerusalem\")\n",
    "    \n",
    "print('Two decision execution comlete')"
   ]
  },
  {
   "cell_type": "code",
   "execution_count": 145,
   "id": "f35acee2",
   "metadata": {},
   "outputs": [
    {
     "name": "stdout",
     "output_type": "stream",
     "text": [
      "Enter your prefered dish SUSHI\n",
      "Dish not available\n"
     ]
    }
   ],
   "source": [
    "\n",
    "Dish = input(\"Enter your prefered dish \")\n",
    "if Dish == 'Jollof' or \"\":\n",
    "    print('You chose',Dish)\n",
    "else:\n",
    "    print(\"Dish not available\")\n",
    "    \n",
    "# print('Two decision execution comlete')"
   ]
  },
  {
   "cell_type": "markdown",
   "id": "4cde31f2",
   "metadata": {},
   "source": [
    "NESTED IF STATEMENTS\n",
    "="
   ]
  },
  {
   "cell_type": "code",
   "execution_count": 150,
   "id": "645164c1",
   "metadata": {},
   "outputs": [
    {
     "name": "stdout",
     "output_type": "stream",
     "text": [
      "\tStudent scored a passing grade\n",
      "\tpassed with A\n",
      "\tsudent scored with A+\n"
     ]
    }
   ],
   "source": [
    "# A loop in another loop\n",
    "grade = 100\n",
    "if grade > 60:\n",
    "    print(\"\\tStudent scored a passing grade\")\n",
    "    if grade >= 90:\n",
    "        print(\"\\tpassed with A\")\n",
    "        if  grade >= 96:\n",
    "            print('\\tsudent scored with A+')\n"
   ]
  },
  {
   "cell_type": "code",
   "execution_count": null,
   "id": "6e5f0f8e",
   "metadata": {},
   "outputs": [],
   "source": [
    "grade = int(input(\"Enter a grade pls: \"))\n",
    "if grade >= 70 and grade <= 100:\n",
    "    print('A')\n",
    "elif grade > 60 and grade < 70:\n",
    "    print('B')\n",
    "elif grade > 40 and grade < 59:\n",
    "    print('C')\n",
    "else:\n",
    "    print('F')"
   ]
  },
  {
   "cell_type": "code",
   "execution_count": null,
   "id": "5e775dd4",
   "metadata": {},
   "outputs": [],
   "source": []
  }
 ],
 "metadata": {
  "kernelspec": {
   "display_name": "Python 3 (ipykernel)",
   "language": "python",
   "name": "python3"
  },
  "language_info": {
   "codemirror_mode": {
    "name": "ipython",
    "version": 3
   },
   "file_extension": ".py",
   "mimetype": "text/x-python",
   "name": "python",
   "nbconvert_exporter": "python",
   "pygments_lexer": "ipython3",
   "version": "3.9.12"
  }
 },
 "nbformat": 4,
 "nbformat_minor": 5
}
