{
 "cells": [
  {
   "cell_type": "markdown",
   "metadata": {},
   "source": [
    "# TASK 5"
   ]
  },
  {
   "cell_type": "markdown",
   "metadata": {},
   "source": [
    "--------------------------"
   ]
  },
  {
   "cell_type": "markdown",
   "metadata": {},
   "source": [
    "- compute for the following functions. \n",
    "The functions should be computed when the temperature and RH values are given. "
   ]
  },
  {
   "cell_type": "markdown",
   "metadata": {},
   "source": [
    "$$ e_s = e_o exp (\\frac{AT}{T+T'})$$      \n"
   ]
  },
  {
   "cell_type": "markdown",
   "metadata": {},
   "source": [
    "-----------------------------------------"
   ]
  },
  {
   "cell_type": "markdown",
   "metadata": {},
   "source": [
    "$$\\frac {de_s}{dT} = {\\Delta} = \\frac{Le_s}{Rv (T + 273.16)^2}$$\n"
   ]
  },
  {
   "cell_type": "markdown",
   "metadata": {},
   "source": [
    "-------------------------------------------"
   ]
  },
  {
   "cell_type": "markdown",
   "metadata": {},
   "source": [
    "$$e = e_s\\frac {RH} {100}$$\n",
    "\n"
   ]
  },
  {
   "cell_type": "markdown",
   "metadata": {},
   "source": [
    "-----------------------------------------------------"
   ]
  },
  {
   "cell_type": "markdown",
   "metadata": {},
   "source": [
    " $$T_d =\\frac{T'ln\\frac{e}{e_o}}{A-ln\\frac{e}{e_o}} $$\n",
    " "
   ]
  },
  {
   "cell_type": "markdown",
   "metadata": {},
   "source": [
    "-------------------------------------------------"
   ]
  },
  {
   "cell_type": "markdown",
   "metadata": {},
   "source": [
    "- T' = 273.3K\n",
    "- e_o = 6.11hPa (SVP at $0^oC)$ \n",
    "- A = 17.27\n",
    "\n",
    "- L = Latent Heat of Vaporisation = 2.45 $\\times 10^6 JKg^-1.$\n",
    "- R_v = gas constant for water = 461 $J Kg^-1 K^-1$\n",
    "- RH = Relative Humidty in percentage "
   ]
  },
  {
   "cell_type": "code",
   "execution_count": null,
   "metadata": {},
   "outputs": [],
   "source": []
  },
  {
   "cell_type": "code",
   "execution_count": 15,
   "metadata": {},
   "outputs": [],
   "source": [
    "# import packages\n",
    "import numpy as np\n",
    "import math"
   ]
  },
  {
   "cell_type": "code",
   "execution_count": 12,
   "metadata": {},
   "outputs": [],
   "source": [
    "# constants\n",
    "W =273.3 \n",
    "e_o = 6.11 \n",
    "A = 17.27\n",
    "L = 2.45*106\n",
    "R_v = 461\n",
    "\n",
    "# W is the standard temperature= 273.15K\n",
    "# RH = Relative Humidty in percentage\n",
    "# L = Latent Heat of Vaporisation = (2.45*106) #𝐽𝐾𝑔−1. \n",
    "# R_v = gas constant for water = 461  #𝐽𝐾𝑔−1𝐾−1 \n",
    "# e_0 = vapour pressure at 0 degree Celcius\n",
    "# e_s = saturation vapour pressure \n",
    "# E = vapor pressure \n",
    "# change = the change saturation vapour pressure."
   ]
  },
  {
   "cell_type": "code",
   "execution_count": 13,
   "metadata": {},
   "outputs": [],
   "source": [
    "# Te is the temperature to be inputed by user.\n",
    "def Temp(Te, unit):\n",
    "    \n",
    "#Convert Temperature from degree celsius to Kelvin.\n",
    "    if unit.upper()=='C' or unit.upper()=='CELSIUS':\n",
    "        T=Te+273.15\n",
    "        print('Temperature = ', T,'K')\n",
    "        e_s=e_o*math.exp(A*T/T+W)                  #e_s=e_o**(A*T/T+W)\n",
    "        print(\"e_s = \", e_s,'hPa')\n",
    "        cng= (L*e_s)/R_v*(T+273.16)**2\n",
    "        print('Change in e_s = ',e_s)\n",
    "        RH=float(input('Enter RH value: '))\n",
    "        E=e_s*(RH/100)\n",
    "        print('Vapor pressure =',E,'hPa')\n",
    "        \n",
    "        \n",
    "#computing the natural log of E/e_o for calculating\n",
    "        b=np.log(E/e_o)\n",
    "        Td=W*b/(A-b)\n",
    "        print('Dew point temperature= ', Td)\n",
    "        \n",
    "#Converting Td into degree celcius\n",
    "        Td_deg= Td-273.15\n",
    "    \n",
    "# if the unit for the temperature     \n",
    "    elif unit.upper()=='K' or units.upper()=='KELVIN':\n",
    "#         T=Te\n",
    "        e_s=e_o**(A*T/T+W)\n",
    "        print(\"e_s = \", e_s,'hPa')\n",
    "        cng= L/R_v*(T+273.16)**2\n",
    "        print('Change in e_s = ',e_s)\n",
    "        RH=float(input('Enter RH value: '))\n",
    "        E=e_s*(RH/100)\n",
    "        print('Vapor pressure =',E,'hPa')\n",
    "        \n",
    "#computing the natural log of E/e_o for calculating\n",
    "        b=np.log(E/e_o)\n",
    "        Td=(W*b)/(A-b)\n",
    "        print('Dew point temperature= ', Td)\n",
    "        \n",
    "#Converting Dew point temperature Td to degree celcius\n",
    "        Td_deg= Td-273.15\n",
    "    \n",
    "        \n",
    "    return(Td_deg)   \n",
    "        "
   ]
  },
  {
   "cell_type": "code",
   "execution_count": 14,
   "metadata": {},
   "outputs": [
    {
     "ename": "UnboundLocalError",
     "evalue": "local variable 'T' referenced before assignment",
     "output_type": "error",
     "traceback": [
      "\u001b[1;31m---------------------------------------------------------------------------\u001b[0m",
      "\u001b[1;31mUnboundLocalError\u001b[0m                         Traceback (most recent call last)",
      "Input \u001b[1;32mIn [14]\u001b[0m, in \u001b[0;36m<cell line: 1>\u001b[1;34m()\u001b[0m\n\u001b[1;32m----> 1\u001b[0m \u001b[43mTemp\u001b[49m\u001b[43m(\u001b[49m\u001b[38;5;241;43m6\u001b[39;49m\u001b[43m,\u001b[49m\u001b[43m \u001b[49m\u001b[38;5;124;43m'\u001b[39;49m\u001b[38;5;124;43mK\u001b[39;49m\u001b[38;5;124;43m'\u001b[39;49m\u001b[43m)\u001b[49m\n",
      "Input \u001b[1;32mIn [13]\u001b[0m, in \u001b[0;36mTemp\u001b[1;34m(Te, unit)\u001b[0m\n\u001b[0;32m     25\u001b[0m \u001b[38;5;66;03m# if the unit for the temperature     \u001b[39;00m\n\u001b[0;32m     26\u001b[0m     \u001b[38;5;28;01melif\u001b[39;00m unit\u001b[38;5;241m.\u001b[39mupper()\u001b[38;5;241m==\u001b[39m\u001b[38;5;124m'\u001b[39m\u001b[38;5;124mK\u001b[39m\u001b[38;5;124m'\u001b[39m \u001b[38;5;129;01mor\u001b[39;00m units\u001b[38;5;241m.\u001b[39mupper()\u001b[38;5;241m==\u001b[39m\u001b[38;5;124m'\u001b[39m\u001b[38;5;124mKELVIN\u001b[39m\u001b[38;5;124m'\u001b[39m:\n\u001b[0;32m     27\u001b[0m \u001b[38;5;66;03m#         T=Te\u001b[39;00m\n\u001b[1;32m---> 28\u001b[0m         e_s\u001b[38;5;241m=\u001b[39me_o\u001b[38;5;241m*\u001b[39m\u001b[38;5;241m*\u001b[39m(A\u001b[38;5;241m*\u001b[39m\u001b[43mT\u001b[49m\u001b[38;5;241m/\u001b[39mT\u001b[38;5;241m+\u001b[39mW)\n\u001b[0;32m     29\u001b[0m         \u001b[38;5;28mprint\u001b[39m(\u001b[38;5;124m\"\u001b[39m\u001b[38;5;124me_s = \u001b[39m\u001b[38;5;124m\"\u001b[39m, e_s,\u001b[38;5;124m'\u001b[39m\u001b[38;5;124mhPa\u001b[39m\u001b[38;5;124m'\u001b[39m)\n\u001b[0;32m     30\u001b[0m         cng\u001b[38;5;241m=\u001b[39m L\u001b[38;5;241m/\u001b[39mR_v\u001b[38;5;241m*\u001b[39m(T\u001b[38;5;241m+\u001b[39m\u001b[38;5;241m273.16\u001b[39m)\u001b[38;5;241m*\u001b[39m\u001b[38;5;241m*\u001b[39m\u001b[38;5;241m2\u001b[39m\n",
      "\u001b[1;31mUnboundLocalError\u001b[0m: local variable 'T' referenced before assignment"
     ]
    }
   ],
   "source": [
    "Temp(6, 'K')"
   ]
  },
  {
   "cell_type": "code",
   "execution_count": 9,
   "metadata": {},
   "outputs": [
    {
     "name": "stdout",
     "output_type": "stream",
     "text": [
      "Temperature =  276.15 K\n",
      "e_s =  2.5118543903184776e+228 hPa\n",
      "Change in e_s =  2.5118543903184776e+228\n",
      "Enter RH value: 8\n",
      "Vapor pressure = 2.009483512254782e+227 hPa\n",
      "\n"
     ]
    },
    {
     "data": {
      "text/plain": [
       "-555.8092036170028"
      ]
     },
     "execution_count": 9,
     "metadata": {},
     "output_type": "execute_result"
    }
   ],
   "source": [
    "Temp(3, 'C')"
   ]
  },
  {
   "cell_type": "code",
   "execution_count": null,
   "metadata": {},
   "outputs": [],
   "source": []
  }
 ],
 "metadata": {
  "kernelspec": {
   "display_name": "Python 3 (ipykernel)",
   "language": "python",
   "name": "python3"
  },
  "language_info": {
   "codemirror_mode": {
    "name": "ipython",
    "version": 3
   },
   "file_extension": ".py",
   "mimetype": "text/x-python",
   "name": "python",
   "nbconvert_exporter": "python",
   "pygments_lexer": "ipython3",
   "version": "3.9.12"
  }
 },
 "nbformat": 4,
 "nbformat_minor": 4
}
